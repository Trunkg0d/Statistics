{
 "cells": [
  {
   "cell_type": "markdown",
   "id": "fbb486c4",
   "metadata": {},
   "source": [
    "# Random Sampling and Sample Bias\n",
    "A **sample** is a subset of data from a larger data set; statisticians call this larger\n",
    "data set the population. A population in statistics is not the same thing as in\n",
    "biology — it is a large, defined but sometimes theoretical or imaginary, set of\n",
    "data.\n",
    "\n",
    "### KEY TERMS FOR RANDOM SAMPLING\n",
    "**Sample**:\n",
    "A subset from a larger data set.\n",
    "\n",
    "**Population**:\n",
    "The larger data set or idea of a data set.\n",
    "\n",
    "**N (n)**:\n",
    "The size of the population (sample).\n",
    "\n",
    "**Random sampling**:\n",
    "Drawing elements into a sample at random.\n",
    "\n",
    "**Stratified sampling**:\n",
    "Dividing the population into strata and randomly sampling from each strata.\n",
    "\n",
    "**Simple random sample**:\n",
    "The sample that results from random sampling without stratifying the population.\n",
    "\n",
    "**Sample bias**:\n",
    "A sample that misrepresents the population.\n",
    "\n",
    "# Selection Bias\n",
    "Selection bias refers to the practice of selectively choosing data — consciously or\n",
    "unconsciously — in a way that that leads to a conclusion that is misleading or\n",
    "ephemeral.\n",
    "\n",
    "### KEY TERMS\n",
    "**Bias**:\n",
    "Systematic error.\n",
    "\n",
    "**Data snooping**:\n",
    "Extensive hunting through data in search of something interesting.\n",
    "\n",
    "**Vast search effect**:\n",
    "Bias or nonreproducibility resulting from repeated data modeling, or modeling data with large\n",
    "\n",
    "# Sampling Distribution of a Statistic\n",
    "The **term sampling** distribution of a statistic refers to the distribution of some\n",
    "sample statistic, over many samples drawn from the same population. Much of\n",
    "classical statistics is concerned with making inferences from (small) samples to\n",
    "(very large) populations.\n",
    "\n",
    "### KEY TERMS\n",
    "**Sample statistic**:\n",
    "A metric calculated for a sample of data drawn from a larger population.\n",
    "\n",
    "**Data distribution**:\n",
    "The frequency distribution of individual values in a data set.\n",
    "\n",
    "**Sampling distribution**:\n",
    "The frequency distribution of a sample statistic over many samples or resamples.\n",
    "\n",
    "**Central limit theorem**:\n",
    "The tendency of the sampling distribution to take on a normalshape as sample size rises.\n",
    "\n",
    "**Standard error**:\n",
    "The variability (standard deviation) of a sample statistic over many samples  (not to be confused\n",
    "with standard deviation, which, by itself, refers to variability of individual data values).\n"
   ]
  },
  {
   "cell_type": "markdown",
   "id": "33529bda",
   "metadata": {},
   "source": [
    "## KEY IDEA\n",
    "Specifying a hypothesis, then collecting data following randomization and random sampling\n",
    "principles, ensures against bias.\n",
    "\n",
    "All other forms of data analysis run the risk of bias resulting from the data collection/analysis\n",
    "process (repeated running of models in data mining, data snooping in research, and after-the-fact\n",
    "selection of interesting events)."
   ]
  },
  {
   "cell_type": "markdown",
   "id": "96c81aff",
   "metadata": {},
   "source": [
    "# Sampling Distribution of a Statistic\n",
    "### KEY TERMS\n",
    "**Sample statistic**:\n",
    "A metric calculated for a sample of data drawn from a larger population.\n",
    "\n",
    "**Data distribution**:\n",
    "The frequency distribution of individual values in a data set.\n",
    "\n",
    "**Sampling distribution**:\n",
    "The frequency distribution of a sample statistic over many samples or resamples.\n",
    "\n",
    "**Central limit theorem**:\n",
    "The tendency of the sampling distribution to take on a normalshape as sample size rises.\n",
    "\n",
    "**Standard error**:\n",
    "The variability (standard deviation) of a sample statistic over many samples (not to be confused\n",
    "with standard deviation, which, by itself, refers to variability of individual data values)."
   ]
  },
  {
   "cell_type": "markdown",
   "id": "632fb521",
   "metadata": {},
   "source": [
    "### Standard Error\n",
    "The standard error is a single metric that sums up the variability in the sampling\n",
    "distribution for a statistic. The standard error can be estimated using a statistic\n",
    "based on the standard deviation s of the sample values, and the sample size n:\n",
    "\n",
    "$ Standard Error = SE = \\frac{s}{\\sqrt(n)} $\n",
    "\n",
    "In fact, you don’t need to rely on the central limit\n",
    "theorem to understand standard error. Consider the following approach to measure\n",
    "standard error:\n",
    "1. Collect a number of brand new samples from the population.\n",
    "2. For each new sample, calculate the statistic (e.g., mean).\n",
    "3. Calculate the standard deviation of the statistics computed in step 2; use\n",
    "this as your estimate of standard error."
   ]
  },
  {
   "cell_type": "markdown",
   "id": "61b9c058",
   "metadata": {},
   "source": [
    "# The Bootstrap\n",
    "### KEY TERMS\n",
    "**Bootstrap sample**:\n",
    "A sample taken with replacement from an observed data set.\n",
    "\n",
    "**Resampling**:\n",
    "The process of taking repeated samples from observed data; includes both bootstrap and\n",
    "permutation (shuffling) procedures.\n",
    "\n",
    "One easy and effective way to estimate the sampling distribution of a statistic, or\n",
    "of model parameters, is to draw additional samples, with replacement, from the\n",
    "sample itself and recalculate the statistic or model for each resample. This\n",
    "procedure is called the bootstrap, and it does not necessarily involve any\n",
    "assumptions about the data or the sample statistic being normally distributed.\n",
    "\n",
    "Conceptually, you can imagine the bootstrap as replicating the original sample\n",
    "thousands or millions of times so that you have a hypothetical population that\n",
    "embodies all the knowledge from your original sample (it’s just larger). You can\n",
    "then draw samples from this hypothetical population for the purpose of estimating\n",
    "a sampling distribution\n",
    "\n",
    "In practice, it is not necessary to actually replicate the sample a huge number of\n",
    "times. We simply replace each observation after each draw; that is, we sample\n",
    "with replacement. In this way we effectively create an infinite population in\n",
    "which the probability of an element being drawn remains unchanged from draw to\n",
    "draw. The algorithm for a bootstrap resampling of the mean is as follows, for a\n",
    "sample of size n:\n",
    "1. Draw a sample value, record, replace it.\n",
    "2. Repeat n times.\n",
    "3. Record the mean of the n resampled values.\n",
    "4. Repeat steps 1–3 R times.\n",
    "5. Use the R results to:\n",
    "a. Calculate their standard deviation (this estimates sample mean\n",
    "standard error).\n",
    "b. Produce a histogram or boxplot.\n",
    "c. Find a confidence interval"
   ]
  },
  {
   "cell_type": "code",
   "execution_count": 6,
   "id": "2f46cd8d",
   "metadata": {},
   "outputs": [
    {
     "name": "stdout",
     "output_type": "stream",
     "text": [
      "ConfidenceInterval(low=10.0, high=20.0)\n"
     ]
    }
   ],
   "source": [
    "from scipy.stats import bootstrap\n",
    "import numpy as np\n",
    "import random\n",
    "\n",
    "#define array of data values\n",
    "data = [7, 9, 10, 10, 12, 14, 15, 16, 16, 17, 19, 20, 21, 21, 23]\n",
    "\n",
    "#convert array to sequence\n",
    "data = (data,)\n",
    "\n",
    "#calculate 95% bootstrapped confidence interval for median\n",
    "bootstrap_ci = bootstrap(data, np.median, confidence_level=0.95,\n",
    "                         random_state=1, method='percentile')\n",
    "\n",
    "#view 95% boostrapped confidence interval\n",
    "print(bootstrap_ci.confidence_interval)"
   ]
  },
  {
   "cell_type": "markdown",
   "id": "46b7fca8",
   "metadata": {},
   "source": [
    "**For example, we can change np.median to np.std within the bootstrap() function to instead calculate a 95% confidence interval for the standard deviation:**"
   ]
  },
  {
   "cell_type": "code",
   "execution_count": 40,
   "id": "aa9576a4",
   "metadata": {
    "scrolled": true
   },
   "outputs": [
    {
     "name": "stdout",
     "output_type": "stream",
     "text": [
      "ConfidenceInterval(low=3.3199732261303283, high=5.66478399066117)\n"
     ]
    }
   ],
   "source": [
    "#calculate 95% bootstrapped confidence interval for median\n",
    "bootstrap_ci = bootstrap(data, np.std, confidence_level=0.95,\n",
    "                         random_state=1, method='percentile')\n",
    "\n",
    "#view 95% boostrapped confidence interval\n",
    "print(bootstrap_ci.confidence_interval)"
   ]
  },
  {
   "cell_type": "markdown",
   "id": "134664f4",
   "metadata": {},
   "source": [
    "**Or use bootstrap like this**"
   ]
  },
  {
   "cell_type": "code",
   "execution_count": 45,
   "id": "8a561aac",
   "metadata": {},
   "outputs": [
    {
     "name": "stdout",
     "output_type": "stream",
     "text": [
      "14.84045947153777\n",
      "14.830050410479931\n"
     ]
    }
   ],
   "source": [
    "x = np.random.normal(loc = 15, size=100)\n",
    "#The loc parameter controls the mean of the output data. Default = 0.\n",
    "#The scale parameter controls the standard deviation of the normal distribution. Default = 1.\n",
    "print(np.mean(x))\n",
    "\n",
    "sample_mean = []\n",
    "for i in range(50):\n",
    "    y = random.sample(x.tolist(), 70)\n",
    "    avg = np.mean(y)\n",
    "    sample_mean.append(avg)\n",
    "\n",
    "print(np.mean(sample_mean))"
   ]
  },
  {
   "cell_type": "markdown",
   "id": "71ba8356",
   "metadata": {},
   "source": [
    "### KEY IDEAS\n",
    "The bootstrap (sampling with replacement from a data set) is a powerful tool for assessing the\n",
    "variability of a sample statistic.\n",
    "\n",
    "The bootstrap can be applied in similar fashion in a wide variety of circumstances, without\n",
    "extensive study of mathematical approximations to sampling distributions.\n",
    "\n",
    "It also allows us to estimate sampling distributions for statistics where no mathematical\n",
    "approximation has been developed.\n",
    "\n",
    "When applied to predictive models, aggregating multiple bootstrap sample predictions (bagging)\n",
    "outperforms the use of a single model.\n",
    "\n",
    "# Confidence Intervals\n",
    "Frequency tables, histograms, boxplots, and standard errors are all ways to\n",
    "understand the potential error in a sample estimate. Confidence intervals are\n",
    "another\n",
    "### KEY TERMS\n",
    "**Confidence level**:\n",
    "The percentage of confidence intervals, constructed in the same way from the same population,\n",
    "expected to contain the statistic of interest.\n",
    "\n",
    "**Interval endpoints**:\n",
    "The top and bottom of the confidence interval.\n",
    "\n",
    "Given a sample of size n, and a sample statistic of interest, the algorithm for a\n",
    "bootstrap confidence interval is as follows:\n",
    "1. Draw a random sample of size n with replacement from the data (a\n",
    "resample).\n",
    "2. Record the statistic of interest for the resample.\n",
    "3. Repeat steps 1–2 many (R) times.\n",
    "4. For an x% confidence interval, trim [(1 – [x/100]) / 2]% of the R\n",
    "resample results from either end of the distribution.\n",
    "5. The trim points are the endpoints of an x% bootstrap confidence interval.\n",
    "\n",
    "**Ex1:** If x% is 95%, the trim will be [(1 - [95/100]) / 2)] = 0.025 => The trim is [0.025 - 97.5].\n",
    "\n",
    "**Ex2:** The sample size is 25, the sample mean is 4.5 and the standard deviation is 2.5. The company calculates the confidence interval assuming a 97% confidence level:\n",
    "\n",
    "Confidence interval = 4.5 ± 0.97(2.5 ÷ √25) = 4.5 ± 0.97(2.5 ÷ 5) = 4.5 ± 0.97(0.5) = 4.5 ± 0.485 = 4.985, 4.015\n"
   ]
  },
  {
   "cell_type": "code",
   "execution_count": null,
   "id": "6072aabb",
   "metadata": {},
   "outputs": [],
   "source": []
  }
 ],
 "metadata": {
  "kernelspec": {
   "display_name": "Python 3 (ipykernel)",
   "language": "python",
   "name": "python3"
  },
  "language_info": {
   "codemirror_mode": {
    "name": "ipython",
    "version": 3
   },
   "file_extension": ".py",
   "mimetype": "text/x-python",
   "name": "python",
   "nbconvert_exporter": "python",
   "pygments_lexer": "ipython3",
   "version": "3.9.7"
  }
 },
 "nbformat": 4,
 "nbformat_minor": 5
}
